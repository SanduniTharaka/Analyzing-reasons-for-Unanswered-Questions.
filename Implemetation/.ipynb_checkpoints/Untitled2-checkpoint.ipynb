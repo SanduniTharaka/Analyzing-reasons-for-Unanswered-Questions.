{
 "cells": [
  {
   "cell_type": "code",
   "execution_count": 5,
   "metadata": {},
   "outputs": [
    {
     "name": "stdout",
     "output_type": "stream",
     "text": [
      "--- original ---\n",
      "<flash> <streaming> <rtmp> <flash-media-server>\n",
      "--- cleaning ---\n",
      "flash streaming rtmp flash-media-server\n",
      "--- tokenization ---\n",
      "['flash', 'streaming', 'rtmp', 'flash-media-server']\n",
      "-----Tag count-----\n",
      "4\n"
     ]
    },
    {
     "ename": "NameError",
     "evalue": "name 'fdist' is not defined",
     "output_type": "error",
     "traceback": [
      "\u001b[1;31m---------------------------------------------------------------------------\u001b[0m",
      "\u001b[1;31mNameError\u001b[0m                                 Traceback (most recent call last)",
      "\u001b[1;32m<ipython-input-5-f41016d1636c>\u001b[0m in \u001b[0;36m<module>\u001b[1;34m\u001b[0m\n\u001b[0;32m     29\u001b[0m \u001b[0mplt\u001b[0m\u001b[1;33m.\u001b[0m\u001b[0mrcParams\u001b[0m\u001b[1;33m[\u001b[0m\u001b[1;34m\"font.family\"\u001b[0m\u001b[1;33m]\u001b[0m\u001b[1;33m=\u001b[0m \u001b[1;34m\"Calibri\"\u001b[0m\u001b[1;33m\u001b[0m\u001b[1;33m\u001b[0m\u001b[0m\n\u001b[0;32m     30\u001b[0m \u001b[1;33m\u001b[0m\u001b[0m\n\u001b[1;32m---> 31\u001b[1;33m \u001b[0mfdist\u001b[0m\u001b[1;33m.\u001b[0m\u001b[0mplot\u001b[0m\u001b[1;33m(\u001b[0m\u001b[1;33m)\u001b[0m\u001b[1;33m\u001b[0m\u001b[1;33m\u001b[0m\u001b[0m\n\u001b[0m\u001b[0;32m     32\u001b[0m \u001b[0mfdist\u001b[0m\u001b[1;33m.\u001b[0m\u001b[0mplot\u001b[0m\u001b[1;33m(\u001b[0m\u001b[0mword_length\u001b[0m\u001b[1;33m,\u001b[0m \u001b[0mcumulative\u001b[0m\u001b[1;33m=\u001b[0m\u001b[1;32mTrue\u001b[0m\u001b[1;33m)\u001b[0m\u001b[1;33m\u001b[0m\u001b[1;33m\u001b[0m\u001b[0m\n\u001b[0;32m     33\u001b[0m \u001b[1;33m\u001b[0m\u001b[0m\n",
      "\u001b[1;31mNameError\u001b[0m: name 'fdist' is not defined"
     ]
    }
   ],
   "source": [
    "import nltk\n",
    "from nltk.tokenize import sent_tokenize\n",
    "from nltk.tokenize import word_tokenize\n",
    "from nltk.probability import FreqDist\n",
    "import matplotlib.pyplot as plt\n",
    "import re\n",
    "from collections import Counter \n",
    "\n",
    "text=\"<flash> <streaming> <rtmp> <flash-media-server>\"\n",
    "\n",
    "wordsList=sent_tokenize(text)\n",
    "wordList=[]\n",
    "for word in wordsList:\n",
    "    a = re.sub(r'[,.)(><\\']','',word)\n",
    "    wordList.extend(word_tokenize(a))\n",
    "\n",
    "    \n",
    "print(\"--- original ---\")\n",
    "print(text)\n",
    "print(\"--- cleaning ---\")\n",
    "print(a)\n",
    "print(\"--- tokenization ---\")\n",
    "print(wordList)\n",
    "\n",
    "tag_count=len(wordList)\n",
    "print(\"-----Tag count-----\")\n",
    "print(tag_count)\n",
    "\n",
    "plt.rcParams[\"font.family\"]= \"Calibri\"\n",
    "\n",
    "fdist = FreqDist(wordList)\n",
    "fdist.plot()\n",
    "fdist.plot(word_length, cumulative=True)\n",
    "\n"
   ]
  },
  {
   "cell_type": "code",
   "execution_count": null,
   "metadata": {},
   "outputs": [],
   "source": []
  }
 ],
 "metadata": {
  "kernelspec": {
   "display_name": "Python 3",
   "language": "python",
   "name": "python3"
  },
  "language_info": {
   "codemirror_mode": {
    "name": "ipython",
    "version": 3
   },
   "file_extension": ".py",
   "mimetype": "text/x-python",
   "name": "python",
   "nbconvert_exporter": "python",
   "pygments_lexer": "ipython3",
   "version": "3.8.3"
  }
 },
 "nbformat": 4,
 "nbformat_minor": 4
}
