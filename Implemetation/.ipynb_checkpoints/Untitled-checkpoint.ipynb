{
 "cells": [
  {
   "cell_type": "code",
   "execution_count": 28,
   "metadata": {},
   "outputs": [
    {
     "name": "stdout",
     "output_type": "stream",
     "text": [
      "--- original ---\n",
      "Fatal error: Call to undefined function imagefilter()\n",
      "--- tokenization ---\n",
      "['Fatal', 'error:', 'Call', 'to', 'undefined', 'function', 'imagefilter()']\n",
      "0\n"
     ]
    }
   ],
   "source": [
    "## for text processing\n",
    "import re\n",
    "import nltk\n",
    "\n",
    "\n",
    "txt = \"Fatal error: Call to undefined function imagefilter()\"\n",
    "\n",
    "\n",
    "print(\"--- original ---\")\n",
    "print(txt)\n",
    "\n",
    "print(\"--- cleaning ---\")\n",
    "txt = re.sub(r'[^\\w\\s]', '', str(txt).lower().strip())\n",
    "print(txt)\n",
    "    \n",
    "print(\"--- tokenization ---\")\n",
    "txt = txt.split()\n",
    "print(txt)\n",
    "\n",
    "word_length=len(wordList)\n",
    "print(word_length)\n",
    "\n",
    "\n"
   ]
  },
  {
   "cell_type": "code",
   "execution_count": null,
   "metadata": {},
   "outputs": [],
   "source": []
  },
  {
   "cell_type": "code",
   "execution_count": null,
   "metadata": {},
   "outputs": [],
   "source": []
  }
 ],
 "metadata": {
  "kernelspec": {
   "display_name": "Python 3",
   "language": "python",
   "name": "python3"
  },
  "language_info": {
   "codemirror_mode": {
    "name": "ipython",
    "version": 3
   },
   "file_extension": ".py",
   "mimetype": "text/x-python",
   "name": "python",
   "nbconvert_exporter": "python",
   "pygments_lexer": "ipython3",
   "version": "3.8.3"
  }
 },
 "nbformat": 4,
 "nbformat_minor": 4
}
